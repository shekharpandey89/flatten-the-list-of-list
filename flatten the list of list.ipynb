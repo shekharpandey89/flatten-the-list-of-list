{
 "cells": [
  {
   "cell_type": "markdown",
   "id": "chemical-russian",
   "metadata": {},
   "source": [
    "# Method 1: Using for loop"
   ]
  },
  {
   "cell_type": "code",
   "execution_count": 1,
   "id": "european-theory",
   "metadata": {},
   "outputs": [
    {
     "name": "stdout",
     "output_type": "stream",
     "text": [
      "list before flattening [[30, 7], [8, 9], [30, 7], [8, 9]]\n",
      "flattened list:  [30, 7, 8, 9, 30, 7, 8, 9]\n"
     ]
    }
   ],
   "source": [
    "lst = [[30,7],[8,9],[30,7],[8,9]]\n",
    "flatten_list = []\n",
    "for i in lst:\n",
    "  for item in i:\n",
    "    flatten_list.append(item)\n",
    "print(\"list before flattening\", lst)\n",
    "print (\"flattened list: \",flatten_list)"
   ]
  },
  {
   "cell_type": "markdown",
   "id": "selective-divide",
   "metadata": {},
   "source": [
    "# Method 2: Using a list comprehension"
   ]
  },
  {
   "cell_type": "code",
   "execution_count": 16,
   "id": "guided-baghdad",
   "metadata": {},
   "outputs": [
    {
     "name": "stdout",
     "output_type": "stream",
     "text": [
      "list before flattening [[30, 7], [8, 9], [30, 7], [8, 9], [[2]]]\n",
      "list after flattening [30, 7, 8, 9, 30, 7, 8, 9, [2]]\n"
     ]
    }
   ],
   "source": [
    "lst = [[30,7],[8,9],[30,7],[8,9]]\n",
    "print(\"list before flattening\", lst)\n",
    "print (\"list after flattening\",[item for i in lst for item in i])"
   ]
  },
  {
   "cell_type": "markdown",
   "id": "comparable-swing",
   "metadata": {},
   "source": [
    "# Method 3: Using  flatten() Method"
   ]
  },
  {
   "cell_type": "code",
   "execution_count": 6,
   "id": "formed-float",
   "metadata": {},
   "outputs": [
    {
     "name": "stdout",
     "output_type": "stream",
     "text": [
      "[30, 7, 8, 9, 30, 7, 8, 9]\n"
     ]
    }
   ],
   "source": [
    "from iteration_utilities import flatten\n",
    "lst = [[30,7],[8,9],[30,7],[8,9]]\n",
    "print(list(flatten(lst)))"
   ]
  },
  {
   "cell_type": "code",
   "execution_count": 7,
   "id": "separate-mills",
   "metadata": {},
   "outputs": [
    {
     "name": "stdout",
     "output_type": "stream",
     "text": [
      "[30, 7, 8, 9, 30, 7, 8, 9, [2]]\n"
     ]
    }
   ],
   "source": [
    "from iteration_utilities import flatten\n",
    "lst = [[30,7],[8,9],[30,7],[8,9],[[2]]]\n",
    "print(list(flatten(lst)))"
   ]
  },
  {
   "cell_type": "markdown",
   "id": "terminal-finger",
   "metadata": {},
   "source": [
    "# Method 4: Using deepflatten() Method"
   ]
  },
  {
   "cell_type": "code",
   "execution_count": 8,
   "id": "liable-adobe",
   "metadata": {},
   "outputs": [
    {
     "name": "stdout",
     "output_type": "stream",
     "text": [
      "list lst before flattening [[30, 7], [8, 9], [30, 7], [8, 9], [[200]]]\n"
     ]
    }
   ],
   "source": [
    "from iteration_utilities import deepflatten\n",
    "lst = [[30,7],[8,9],[30,7],[8,9],[ [200 ] ]]\n",
    "print(\"list lst before flattening\", lst)\n"
   ]
  },
  {
   "cell_type": "code",
   "execution_count": 9,
   "id": "reliable-zimbabwe",
   "metadata": {},
   "outputs": [
    {
     "name": "stdout",
     "output_type": "stream",
     "text": [
      "list lst after flattening [30, 7, 8, 9, 30, 7, 8, 9, 200]\n"
     ]
    }
   ],
   "source": [
    "flatten_lst = list(deepflatten(lst))\n",
    "print(\"list lst after flattening\", flatten_lst)\n"
   ]
  },
  {
   "cell_type": "markdown",
   "id": "lasting-phrase",
   "metadata": {},
   "source": [
    "# Method 5: Using pandas flatten method"
   ]
  },
  {
   "cell_type": "code",
   "execution_count": 17,
   "id": "involved-character",
   "metadata": {},
   "outputs": [
    {
     "name": "stdout",
     "output_type": "stream",
     "text": [
      "list before flattening [[30, 7], [8, 9], [30, 7], [8, 9], [[2]]]\n",
      "flattened list:  [30, 7, 8, 9, 30, 7, 8, 9, 2]\n"
     ]
    }
   ],
   "source": [
    "from pandas.core.common import flatten\n",
    "lst = [[30,7],[8,9],[30,7],[8,9],[[2]]]\n",
    "print(\"list before flattening\", lst)\n",
    "print (\"flattened list: \",list(flatten(lst)))\n"
   ]
  },
  {
   "cell_type": "markdown",
   "id": "cooperative-newsletter",
   "metadata": {},
   "source": [
    "# Method 6: Using matplotlib flatten method"
   ]
  },
  {
   "cell_type": "code",
   "execution_count": 18,
   "id": "awful-element",
   "metadata": {},
   "outputs": [
    {
     "name": "stdout",
     "output_type": "stream",
     "text": [
      "list before flattening [[30, 7], [8, 9], [30, 7], [8, 9], [[2]]]\n",
      "flattened list:  [30, 7, 8, 9, 30, 7, 8, 9, 2]\n"
     ]
    }
   ],
   "source": [
    "from matplotlib.cbook import flatten\n",
    "lst = [[30,7],[8,9],[30,7],[8,9],[[2]]]\n",
    "print(\"list before flattening\", lst)\n",
    "print (\"flattened list: \",list(flatten(lst)))"
   ]
  },
  {
   "cell_type": "markdown",
   "id": "agreed-circus",
   "metadata": {},
   "source": [
    "# Method 7: Using unipath flatten method"
   ]
  },
  {
   "cell_type": "code",
   "execution_count": 19,
   "id": "floating-administration",
   "metadata": {},
   "outputs": [
    {
     "name": "stdout",
     "output_type": "stream",
     "text": [
      "list before flattening [[30, 7], [8, 9], [30, 7], [8, 9], [[2]]]\n",
      "flattened list:  [30, 7, 8, 9, 30, 7, 8, 9, 2]\n"
     ]
    }
   ],
   "source": [
    "import unipath\n",
    "from unipath.path import flatten\n",
    "lst = [[30,7],[8,9],[30,7],[8,9],[[2]]]\n",
    "print(\"list before flattening\", lst)\n",
    "print (\"flattened list: \",list(flatten(lst)))"
   ]
  },
  {
   "cell_type": "markdown",
   "id": "simplified-equation",
   "metadata": {},
   "source": [
    "# Method 8: Using setuptools flatten method"
   ]
  },
  {
   "cell_type": "code",
   "execution_count": 21,
   "id": "vocational-italian",
   "metadata": {},
   "outputs": [
    {
     "name": "stdout",
     "output_type": "stream",
     "text": [
      "list before flattening [[30, 7], [8, 9], [30, 7], [8, 9], [[2]]]\n",
      "flattened list:  [30, 7, 8, 9, 30, 7, 8, 9, [2]]\n"
     ]
    }
   ],
   "source": [
    "from setuptools.namespaces import flatten\n",
    "lst = [[30,7],[8,9],[30,7],[8,9],[[2]]]\n",
    "print(\"list before flattening\", lst)\n",
    "print (\"flattened list: \",list(flatten(lst)))"
   ]
  },
  {
   "cell_type": "markdown",
   "id": "alive-california",
   "metadata": {},
   "source": [
    "# Method 9: Using itertools.chain()"
   ]
  },
  {
   "cell_type": "code",
   "execution_count": 22,
   "id": "greater-builder",
   "metadata": {},
   "outputs": [
    {
     "name": "stdout",
     "output_type": "stream",
     "text": [
      "list lst before flattening [[30, 7], [8, 9], [30, 7], [8, 9], [[2]]]\n",
      "list li after flattening [30, 7, 8, 9, 30, 7, 8, 9, [2]]\n"
     ]
    }
   ],
   "source": [
    "import itertools\n",
    "lst = [[30,7],[8,9],[30,7],[8,9],[[2]]]\n",
    "print(\"list lst before flattening\", lst)\n",
    "flatten_lst = list((itertools.chain.from_iterable(lst)))\n",
    "print(\"list li after flattening\", flatten_lst)"
   ]
  },
  {
   "cell_type": "code",
   "execution_count": 23,
   "id": "ethical-latest",
   "metadata": {},
   "outputs": [
    {
     "name": "stdout",
     "output_type": "stream",
     "text": [
      "list lst before flattening [[30, 7], [8, 9], [30, 7], [8, 9], [[2]]]\n",
      "list li after flattening [30, 7, 8, 9, 30, 7, 8, 9, [2]]\n"
     ]
    }
   ],
   "source": [
    "import itertools\n",
    "lst = [[30,7],[8,9],[30,7],[8,9],[[2]]]\n",
    "print(\"list lst before flattening\", lst)\n",
    "flatten_lst = list((itertools.chain(*lst)))\n",
    "print(\"list li after flattening\", flatten_lst)"
   ]
  },
  {
   "cell_type": "markdown",
   "id": "outstanding-internet",
   "metadata": {},
   "source": [
    "# Method 10: Using numpy.ravel () method"
   ]
  },
  {
   "cell_type": "code",
   "execution_count": 38,
   "id": "after-poland",
   "metadata": {},
   "outputs": [
    {
     "name": "stdout",
     "output_type": "stream",
     "text": [
      "list before flattening [[30  7]\n",
      " [ 8  9]\n",
      " [30  7]\n",
      " [ 8  9]]\n",
      "flattened list:  [30, 7, 8, 9, 30, 7, 8, 9]\n"
     ]
    }
   ],
   "source": [
    "import numpy as np \n",
    "lst = np.array([[30,7],[8,9],[30,7],[8,9]])\n",
    "flatten_lst = lst.ravel()\n",
    "print(\"list before flattening\", lst)\n",
    "print (\"flattened list: \",list(flatten(lst)))"
   ]
  },
  {
   "cell_type": "markdown",
   "id": "center-delicious",
   "metadata": {},
   "source": [
    "# Method 11: Using numpy.reshape () method"
   ]
  },
  {
   "cell_type": "code",
   "execution_count": 37,
   "id": "practical-agency",
   "metadata": {},
   "outputs": [
    {
     "name": "stdout",
     "output_type": "stream",
     "text": [
      "list before flattening [[30  7]\n",
      " [ 8  9]\n",
      " [30  7]\n",
      " [ 8  9]]\n",
      "flattened list:  [30, 7, 8, 9, 30, 7, 8, 9]\n"
     ]
    }
   ],
   "source": [
    "import numpy as np \n",
    "lst = np.array([[30,7],[8,9],[30,7],[8,9]]) \n",
    "flatten_lst = lst.reshape(-1) \n",
    "print(\"list before flattening\", lst)\n",
    "print (\"flattened list: \",list(flatten(lst)))"
   ]
  },
  {
   "cell_type": "markdown",
   "id": "unusual-lithuania",
   "metadata": {},
   "source": [
    "# Method 12: Using numpy flatten () method"
   ]
  },
  {
   "cell_type": "code",
   "execution_count": 44,
   "id": "neither-panama",
   "metadata": {},
   "outputs": [
    {
     "name": "stdout",
     "output_type": "stream",
     "text": [
      "list before flattening [[30  7]\n",
      " [ 8  9]\n",
      " [30  7]\n",
      " [ 8  9]]\n",
      "flattened list:  [30, 7, 8, 9, 30, 7, 8, 9]\n"
     ]
    }
   ],
   "source": [
    "import numpy as np \n",
    "lst = np.array([[30,7],[8,9],[30,7],[8,9]]) \n",
    "flatten_lst = lst.flatten() \n",
    "print(\"list before flattening\", lst)\n",
    "print (\"flattened list: \",list(flatten(lst)))"
   ]
  },
  {
   "cell_type": "markdown",
   "id": "talented-radiation",
   "metadata": {},
   "source": [
    "# Method 13: Using numpy.concatenate () method"
   ]
  },
  {
   "cell_type": "code",
   "execution_count": 41,
   "id": "selective-range",
   "metadata": {},
   "outputs": [
    {
     "name": "stdout",
     "output_type": "stream",
     "text": [
      "list before flattening [[30  7]\n",
      " [ 8  9]\n",
      " [30  7]\n",
      " [ 8  9]]\n",
      "flattened list:  [30, 7, 8, 9, 30, 7, 8, 9]\n"
     ]
    }
   ],
   "source": [
    "import numpy as np \n",
    "lst = np.array([[30,7],[8,9],[30,7],[8,9]]) \n",
    "flatten_lst = list(np.concatenate(lst))\n",
    "print(\"list before flattening\", lst)\n",
    "print (\"flattened list: \",list(flatten(lst)))"
   ]
  },
  {
   "cell_type": "markdown",
   "id": "indian-tuner",
   "metadata": {},
   "source": [
    "# Method 14: Using numpy flat method"
   ]
  },
  {
   "cell_type": "code",
   "execution_count": 43,
   "id": "experienced-destiny",
   "metadata": {},
   "outputs": [
    {
     "name": "stdout",
     "output_type": "stream",
     "text": [
      "list before flattening [[30  7]\n",
      " [ 8  9]\n",
      " [30  7]\n",
      " [ 8  9]]\n",
      "flattened list:  [30, 7, 8, 9, 30, 7, 8, 9]\n"
     ]
    }
   ],
   "source": [
    "import numpy as np \n",
    "lst = np.array([[30,7],[8,9],[30,7],[8,9]]) \n",
    "flatten_lst = list(lst.flat)\n",
    "print(\"list before flattening\", lst)\n",
    "print (\"flattened list: \",list(flatten(lst)))"
   ]
  },
  {
   "cell_type": "code",
   "execution_count": null,
   "id": "numerous-skiing",
   "metadata": {},
   "outputs": [],
   "source": []
  }
 ],
 "metadata": {
  "kernelspec": {
   "display_name": "cv",
   "language": "python",
   "name": "cv"
  },
  "language_info": {
   "codemirror_mode": {
    "name": "ipython",
    "version": 3
   },
   "file_extension": ".py",
   "mimetype": "text/x-python",
   "name": "python",
   "nbconvert_exporter": "python",
   "pygments_lexer": "ipython3",
   "version": "3.8.10"
  }
 },
 "nbformat": 4,
 "nbformat_minor": 5
}
